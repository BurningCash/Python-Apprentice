{
 "cells": [
  {
   "cell_type": "markdown",
   "metadata": {},
   "source": [
    "# Variables and Functions\n",
    "\n",
    "<div class=\"alert alert-info\">\n",
    "  A few thigns to remember:\n",
    "\n",
    "  1) Commit your code! Review  `03_Check_In_You_Code` for a reminder \n",
    "    on how to commit and sync your changes. \n",
    "  2) Remember that these `.ipynb` files have runable cells. Review `01_Get_Started`, \n",
    "    in the section \"Running Programs\" for a reminder on how to run code cells in this file. \n",
    "   \n",
    "</div>\n",
    "\n",
    "\n",
    "Here is one of the ways to solve the last assignment, making shapes with a\n",
    "loop:\n",
    "\n",
    "```python \n",
    "\n",
    "import turtle                           # Tell Python we want to work with the turtle\n",
    "turtle.setup(width=600, height=600)     # Set the size of the window\n",
    "\n",
    "tina = turtle.Turtle()                  # Create a turtle named tina\n",
    "\n",
    "for i in range(4):\n",
    "    tina.forward(150)                   # Move tina forward by the forward distance\n",
    "    tina.left(90)                       # Turn tina left by the left turn\n",
    "\n",
    "\n",
    "```\n",
    "\n",
    "Let's see if we can make this code even simpler. Notice that the code that draws\n",
    "the square has a range of `4` and left turn of `90` degrees, and $4*90 = 360$,\n",
    "and there are 360 degrees in a circle. The pentagram has a range of `5` and a\n",
    "left turn of `72` degrees, and $5*72=360$. Hmm... could we come up with a way to\n",
    "compute the angle for  any number of sides? To do that, we going to use\n",
    "variables and math. "
   ]
  },
  {
   "cell_type": "code",
   "execution_count": 1,
   "metadata": {},
   "outputs": [
    {
     "data": {
      "text/plain": [
       "60.0"
      ]
     },
     "execution_count": 1,
     "metadata": {},
     "output_type": "execute_result"
    }
   ],
   "source": [
    "# Run me\n",
    "# Compute the angle for a number of sides\n",
    "\n",
    "sides = 6\n",
    "angle = 360/sides\n",
    "\n",
    "angle\n"
   ]
  },
  {
   "cell_type": "markdown",
   "metadata": {},
   "source": [
    "If we want 6 sides the angle is 60 degrees, and sure enough, $60*6 = 360$.\n",
    "\n",
    "The words  `sides`  and `angle` are __variables__, which are like the names of boxes \n",
    "that can hold values. We can __assign__ values to variables, then use those variables \n",
    "in other places. \n",
    "\n",
    "```python \n",
    "\n",
    "sides = 4\n",
    "angle = 360/sides           # Calculate the angle from the number of sides. \n",
    "\n",
    "for i in range(sides):\n",
    "    tina.forward(150)       # Move tina forward by the forward distance\n",
    "    tina.left(angle)        # Turn tina left by the left turn\n",
    "\n",
    "```\n",
    "\n",
    "In this program, if you change the number that we assign to `sides`, the angle will change automatically!\n",
    "\n",
    "Let's see if the angles created by this equation seem correct. Fill in the\n",
    "'...' in the program in the cell below to calculate angles from sides: "
   ]
  },
  {
   "cell_type": "code",
   "execution_count": null,
   "metadata": {},
   "outputs": [],
   "source": [
    "# Run me!\n",
    "\n",
    "for sides in range(1, 10):\n",
    "    angle = ...\n",
    "    print(\"Angle for \", sides, \" sides is \", angle)\n",
    "   "
   ]
  },
  {
   "cell_type": "markdown",
   "metadata": {},
   "source": [
    "# Functions\n",
    "\n",
    "We can make another more improvement in our program; by grouping \n",
    "the comands to create a shape into a __function__. Here is an example of a function:"
   ]
  },
  {
   "cell_type": "code",
   "execution_count": 1,
   "metadata": {},
   "outputs": [
    {
     "name": "stdout",
     "output_type": "stream",
     "text": [
      "0 Hello  John\n",
      "1 Hello  John\n",
      "2 Hello  John\n",
      "3 Hello  John\n",
      "4 Hello  John\n"
     ]
    }
   ],
   "source": [
    "def say_hello(name, times):         # define the function, and give it a name.  'name' and 'times' are parameters\n",
    "\n",
    "    for i in range(times):          # This is the body of the function\n",
    "        print(i, \"Hello \", name)\n",
    "\n",
    "say_hello(\"John\", 5)                # Call the function, and pass it two arguments"
   ]
  },
  {
   "cell_type": "markdown",
   "metadata": {},
   "source": [
    "The line that starts with 'def' is the start of the function definition, and the\n",
    "last line is where we call the function -- we actually run it.   Try calling the\n",
    "function again with different parameters."
   ]
  },
  {
   "cell_type": "code",
   "execution_count": 2,
   "metadata": {},
   "outputs": [
    {
     "name": "stdout",
     "output_type": "stream",
     "text": [
      "0 Hello  pookiebear💅\n",
      "1 Hello  pookiebear💅\n",
      "2 Hello  pookiebear💅\n",
      "3 Hello  pookiebear💅\n",
      "4 Hello  pookiebear💅\n",
      "5 Hello  pookiebear💅\n",
      "6 Hello  pookiebear💅\n",
      "7 Hello  pookiebear💅\n",
      "8 Hello  pookiebear💅\n",
      "9 Hello  pookiebear💅\n",
      "10 Hello  pookiebear💅\n",
      "11 Hello  pookiebear💅\n",
      "12 Hello  pookiebear💅\n",
      "13 Hello  pookiebear💅\n",
      "14 Hello  pookiebear💅\n",
      "15 Hello  pookiebear💅\n",
      "16 Hello  pookiebear💅\n",
      "17 Hello  pookiebear💅\n",
      "18 Hello  pookiebear💅\n",
      "19 Hello  pookiebear💅\n",
      "20 Hello  pookiebear💅\n",
      "21 Hello  pookiebear💅\n",
      "22 Hello  pookiebear💅\n",
      "23 Hello  pookiebear💅\n",
      "24 Hello  pookiebear💅\n",
      "25 Hello  pookiebear💅\n",
      "26 Hello  pookiebear💅\n",
      "27 Hello  pookiebear💅\n",
      "28 Hello  pookiebear💅\n",
      "29 Hello  pookiebear💅\n",
      "30 Hello  pookiebear💅\n",
      "31 Hello  pookiebear💅\n",
      "32 Hello  pookiebear💅\n",
      "33 Hello  pookiebear💅\n",
      "34 Hello  pookiebear💅\n",
      "35 Hello  pookiebear💅\n",
      "36 Hello  pookiebear💅\n",
      "37 Hello  pookiebear💅\n",
      "38 Hello  pookiebear💅\n",
      "39 Hello  pookiebear💅\n",
      "40 Hello  pookiebear💅\n",
      "41 Hello  pookiebear💅\n",
      "42 Hello  pookiebear💅\n",
      "43 Hello  pookiebear💅\n",
      "44 Hello  pookiebear💅\n",
      "45 Hello  pookiebear💅\n",
      "46 Hello  pookiebear💅\n",
      "47 Hello  pookiebear💅\n",
      "48 Hello  pookiebear💅\n",
      "49 Hello  pookiebear💅\n",
      "50 Hello  pookiebear💅\n",
      "51 Hello  pookiebear💅\n",
      "52 Hello  pookiebear💅\n",
      "53 Hello  pookiebear💅\n",
      "54 Hello  pookiebear💅\n",
      "55 Hello  pookiebear💅\n",
      "56 Hello  pookiebear💅\n",
      "57 Hello  pookiebear💅\n",
      "58 Hello  pookiebear💅\n",
      "59 Hello  pookiebear💅\n",
      "60 Hello  pookiebear💅\n",
      "61 Hello  pookiebear💅\n",
      "62 Hello  pookiebear💅\n",
      "63 Hello  pookiebear💅\n",
      "64 Hello  pookiebear💅\n",
      "65 Hello  pookiebear💅\n",
      "66 Hello  pookiebear💅\n",
      "67 Hello  pookiebear💅\n",
      "68 Hello  pookiebear💅\n",
      "69 Hello  pookiebear💅\n",
      "70 Hello  pookiebear💅\n",
      "71 Hello  pookiebear💅\n",
      "72 Hello  pookiebear💅\n",
      "73 Hello  pookiebear💅\n",
      "74 Hello  pookiebear💅\n",
      "75 Hello  pookiebear💅\n",
      "76 Hello  pookiebear💅\n",
      "77 Hello  pookiebear💅\n",
      "78 Hello  pookiebear💅\n",
      "79 Hello  pookiebear💅\n",
      "80 Hello  pookiebear💅\n",
      "81 Hello  pookiebear💅\n",
      "82 Hello  pookiebear💅\n",
      "83 Hello  pookiebear💅\n",
      "84 Hello  pookiebear💅\n",
      "85 Hello  pookiebear💅\n",
      "86 Hello  pookiebear💅\n",
      "87 Hello  pookiebear💅\n",
      "88 Hello  pookiebear💅\n",
      "89 Hello  pookiebear💅\n",
      "90 Hello  pookiebear💅\n",
      "91 Hello  pookiebear💅\n",
      "92 Hello  pookiebear💅\n",
      "93 Hello  pookiebear💅\n",
      "94 Hello  pookiebear💅\n",
      "95 Hello  pookiebear💅\n",
      "96 Hello  pookiebear💅\n",
      "97 Hello  pookiebear💅\n",
      "98 Hello  pookiebear💅\n",
      "99 Hello  pookiebear💅\n"
     ]
    }
   ],
   "source": [
    "say_hello(\"pookiebear💅\", 100)"
   ]
  },
  {
   "cell_type": "code",
   "execution_count": null,
   "metadata": {},
   "outputs": [],
   "source": []
  }
 ],
 "metadata": {
  "kernelspec": {
   "display_name": "Python 3",
   "language": "python",
   "name": "python3"
  },
  "language_info": {
   "codemirror_mode": {
    "name": "ipython",
    "version": 3
   },
   "file_extension": ".py",
   "mimetype": "text/x-python",
   "name": "python",
   "nbconvert_exporter": "python",
   "pygments_lexer": "ipython3",
   "version": "3.12.4"
  }
 },
 "nbformat": 4,
 "nbformat_minor": 2
}
